











print("Hello, Python World!")





# Program to reverse and print the user's first and last name

# Take input from user for first and last name
first_name = input("Enter your first name: ")
last_name = input("Enter your last name: ")

# Reverse the order of the names and join them with a space in between
# Print them in uppercase to get better view 
print(f"{last_name.upper()} {first_name.upper()}")
name = first_name + " " +last_name

print(name[::-1].upper())





# Program to convert an input number to different numeric data types

# Get input from the user
user_input = input("Enter a number: ")

# Convert input to integer
int_value = int(float(user_input))

# Convert input to float
float_value = float(user_input)

# Convert input to complex
complex_value = complex(user_input)

# Display the converted values
print(f"Integer value: {int_value}")
print(f"Float value: {float_value}")
print(f"Complex value: {complex_value}")






# Program to calculate the area of a rectangle

# Prompt the user to enter the length and width of the rectangle
length = float(input("Enter the length of the rectangle: "))
width = float(input("Enter the width of the rectangle: "))

# Calculate the area of the rectangle
area = length * width

# Display the result
print(f"The area of the rectangle is: {area}")






# Display the result formatted to two decimal places
print(f"The area of the rectangle is: {area:.2f}")






# Program to calculate and print the average of three numbers

# Prompt the user to enter three numbers
num1 = float(input("Enter the first number: "))
num2 = float(input("Enter the second number: "))
num3 = float(input("Enter the third number: "))

# Calculate the average of the three numbers
average = (num1 + num2 + num3) / 3

# Display the result using % formatting
print("The average of the three numbers is: %.2f" % average)






# Program to determine if a number is positive, negative, or zero
# and to continue prompting until "exit" is entered

def main():
    while True:
        # Prompt the user for input
        user_input = input("Enter a number (or type 'exit' to quit): ")
        
        # Check if the user wants to exit
        if user_input.lower() == 'exit':
            print("Exiting the program.")
            break
        
        # Attempt to convert the input to a number
        try:
            number = float(user_input)
        except ValueError:
            print("Invalid input. Please enter a valid number or type 'exit' to quit.")
            continue
        
        # Determine if the number is positive, negative, or zero
        if number > 0:
            print("The number is positive.")
        elif number < 0:
            print("The number is negative.")
        else:
            print("The number is zero.")

if __name__ == "__main__":
    main()






# Program to check if two numbers are both even, both odd, or one of each

# Function to check if a number is even
def is_even(number):
    return number % 2 == 0

# Function to check if a number is odd
def is_odd(number):
    return number % 2 != 0

# Prompt the user to enter two numbers
num1 = float(input("Enter the first number: "))
num2 = float(input("Enter the second number: "))

# nature of the numbers using logical operators
if is_even(num1) and is_even(num2):
    print("Both numbers are even.")
elif is_odd(num1) and is_odd(num2):
    print("Both numbers are odd.")
else:
    print("One number is even and the other is odd.")






# Program to convert an integer to binary, octal, and hexadecimal representations

# Function to convert integer to binary representation
def int_to_binary(n):
    if n == 0:
        return "0"
    binary_rep = ""
    while n > 0:
        binary_rep = str(n & 1) + binary_rep  # Append the least significant bit
        n >>= 1  # Right shift by 1 bit
    return binary_rep

# Function to convert integer to octal representation
def int_to_octal(n):
    if n == 0:
        return "0"
    octal_rep = ""
    while n > 0:
        octal_rep = str(n & 7) + octal_rep  # Append the last 3 bits
        n >>= 3  # Right shift by 3 bits
    return octal_rep

# Function to convert integer to hexadecimal representation
def int_to_hexadecimal(n):
    if n == 0:
        return "0"
    hex_rep = ""
    hex_chars = "0123456789ABCDEF"
    while n > 0:
        hex_rep = hex_chars[n & 15] + hex_rep  # Append the last 4 bits
        n >>= 4  # Right shift by 4 bits
    return hex_rep

# Prompt the user for an integer input
number = int(input("Enter an integer: "))

# Convert and display the number in different bases
binary_representation = int_to_binary(number)
octal_representation = int_to_octal(number)
hexadecimal_representation = int_to_hexadecimal(number)

print(f"Binary representation: {binary_representation}")
print(f"Octal representation: {octal_representation}")
print(f"Hexadecimal representation: {hexadecimal_representation}")

