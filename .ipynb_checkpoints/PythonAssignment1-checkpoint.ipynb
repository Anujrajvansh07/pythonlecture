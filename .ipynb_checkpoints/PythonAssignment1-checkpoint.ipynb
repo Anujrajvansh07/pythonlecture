{
 "cells": [
  {
   "cell_type": "markdown",
   "id": "6d18e73f-fae2-42bf-a7a4-3988e96743a8",
   "metadata": {},
   "source": [
    "# Python Assignment1\n",
    "## Introduction to Python and Basic Syntax\n",
    "#### Question1 : Write a python script that prints your name, course name, and the Python version you're using.\n"
   ]
  },
  {
   "attachments": {
    "13526229-490f-4f0d-87e2-e8444499c8ef.png": {
     "image/png": "[encoded data removed]"
    }
   },
   "cell_type": "markdown",
   "id": "b1fc1b81-b262-453b-8563-474681e7fb88",
   "metadata": {},
   "source": [
    "![code.png](attachment:13526229-490f-4f0d-87e2-e8444499c8ef.png)"
   ]
  },
  {
   "attachments": {
    "9682eb1d-538e-4155-bf47-df37945385b9.png": {
     "image/png": "[encoded data removed]"
    }
   },
   "cell_type": "markdown",
   "id": "09e61c75-3505-4b70-adf5-daff12f3c14c",
   "metadata": {},
   "source": [
    "![output.png](attachment:9682eb1d-538e-4155-bf47-df37945385b9.png)"
   ]
  },
  {
   "cell_type": "markdown",
   "id": "39c7a6e2-7044-445d-bbcf-cc0de417a813",
   "metadata": {},
   "source": [
    "#### Question2 : Write a Python Script thats prints \"Hello, Python World!\"."
   ]
  },
  {
   "cell_type": "code",
   "execution_count": 1,
   "id": "508882ae-277f-46db-9438-ae47b0acafec",
   "metadata": {},
   "outputs": [
    {
     "name": "stdout",
     "output_type": "stream",
     "text": [
      "Hello, Python World!\n"
     ]
    }
   ],
   "source": [
    "print(\"Hello, Python World!\")"
   ]
  },
  {
   "cell_type": "markdown",
   "id": "f4477200-95c4-416b-bcc4-b8d47e777adc",
   "metadata": {},
   "source": [
    "## Basic Python Syntax\n",
    "### String Operation\n",
    "#### Question3 : Write a Python program that takes a user's first and last name as input and prints them in reverse order with a space between them."
   ]
  },
  {
   "cell_type": "code",
   "execution_count": 8,
   "id": "91b6320d-5090-482a-818f-4cc797ce40e0",
   "metadata": {},
   "outputs": [
    {
     "name": "stdin",
     "output_type": "stream",
     "text": [
      "Enter your first name:  yogesh\n",
      "Enter your last name:  kumar\n"
     ]
    },
    {
     "name": "stdout",
     "output_type": "stream",
     "text": [
      "KUMAR YOGESH\n",
      "RAMUK HSEGOY\n"
     ]
    }
   ],
   "source": [
    "# Program to reverse and print the user's first and last name\n",
    "\n",
    "# Take input from user for first and last name\n",
    "first_name = input(\"Enter your first name: \")\n",
    "last_name = input(\"Enter your last name: \")\n",
    "\n",
    "# Reverse the order of the names and join them with a space in between\n",
    "# Print them in uppercase to get better view \n",
    "print(f\"{last_name.upper()} {first_name.upper()}\")\n",
    "name = first_name + \" \" +last_name\n",
    "\n",
    "print(name[::-1].upper())"
   ]
  },
  {
   "cell_type": "markdown",
   "id": "97712613-437e-4dc8-be6a-5f83f3e49c3e",
   "metadata": {},
   "source": [
    "### Numeric Data Types and Conversion Function\n",
    "#### Question4 : Write a Python program that takes an input number from the user, converts it to different numeric data types(integer, float, and complex), and displays the converted values."
   ]
  },
  {
   "cell_type": "code",
   "execution_count": 10,
   "id": "6371e33c-dc85-4f9d-a27a-03e39ee5de42",
   "metadata": {},
   "outputs": [
    {
     "name": "stdin",
     "output_type": "stream",
     "text": [
      "Enter a number:  77\n"
     ]
    },
    {
     "name": "stdout",
     "output_type": "stream",
     "text": [
      "Integer value: 77\n",
      "Float value: 77.0\n",
      "Complex value: (77+0j)\n"
     ]
    }
   ],
   "source": [
    "# Program to convert an input number to different numeric data types\n",
    "\n",
    "# Get input from the user\n",
    "user_input = input(\"Enter a number: \")\n",
    "\n",
    "# Convert input to integer\n",
    "int_value = int(float(user_input))\n",
    "\n",
    "# Convert input to float\n",
    "float_value = float(user_input)\n",
    "\n",
    "# Convert input to complex\n",
    "complex_value = complex(user_input)\n",
    "\n",
    "# Display the converted values\n",
    "print(f\"Integer value: {int_value}\")\n",
    "print(f\"Float value: {float_value}\")\n",
    "print(f\"Complex value: {complex_value}\")\n"
   ]
  },
  {
   "cell_type": "markdown",
   "id": "b13b8d70-383d-49ed-8c2d-dd438dd153d9",
   "metadata": {},
   "source": [
    "### Simple Input and Output\n",
    "#### Question5 : Create a Python script that calculates the area of a rectangle."
   ]
  },
  {
   "cell_type": "code",
   "execution_count": 11,
   "id": "ef528b05-be3b-4c36-8ce7-01f31507370e",
   "metadata": {},
   "outputs": [
    {
     "name": "stdin",
     "output_type": "stream",
     "text": [
      "Enter the length of the rectangle:  4\n",
      "Enter the width of the rectangle:  8\n"
     ]
    },
    {
     "name": "stdout",
     "output_type": "stream",
     "text": [
      "The area of the rectangle is: 32.0\n"
     ]
    }
   ],
   "source": [
    "# Program to calculate the area of a rectangle\n",
    "\n",
    "# Prompt the user to enter the length and width of the rectangle\n",
    "length = float(input(\"Enter the length of the rectangle: \"))\n",
    "width = float(input(\"Enter the width of the rectangle: \"))\n",
    "\n",
    "# Calculate the area of the rectangle\n",
    "area = length * width\n",
    "\n",
    "# Display the result\n",
    "print(f\"The area of the rectangle is: {area}\")\n"
   ]
  },
  {
   "cell_type": "markdown",
   "id": "b9284418-4935-4294-a0fd-92307d9e4fc9",
   "metadata": {},
   "source": [
    "### Using Format Method\n",
    "#### Question6 : Modify the rectangle area program to format the output so that it displays the area with two decimal places."
   ]
  },
  {
   "cell_type": "code",
   "execution_count": 12,
   "id": "9a306e97-ee65-421f-81a7-40180763159f",
   "metadata": {},
   "outputs": [
    {
     "name": "stdout",
     "output_type": "stream",
     "text": [
      "The area of the rectangle is: 32.00\n"
     ]
    }
   ],
   "source": [
    "# Display the result formatted to two decimal places\n",
    "print(f\"The area of the rectangle is: {area:.2f}\")\n"
   ]
  },
  {
   "cell_type": "markdown",
   "id": "d273ad49-fc21-437e-916f-c0ef2600f640",
   "metadata": {},
   "source": [
    "### The % Method and print Function\n",
    "#### Question7 : Write a Python script that takes three numbers as input and prints their average using the % methods for string formatting."
   ]
  },
  {
   "cell_type": "code",
   "execution_count": 13,
   "id": "105c0165-28f1-4a08-a4ac-7a78927896f9",
   "metadata": {},
   "outputs": [
    {
     "name": "stdin",
     "output_type": "stream",
     "text": [
      "Enter the first number:  8\n",
      "Enter the second number:  9\n",
      "Enter the third number:  7\n"
     ]
    },
    {
     "name": "stdout",
     "output_type": "stream",
     "text": [
      "The average of the three numbers is: 8.00\n"
     ]
    }
   ],
   "source": [
    "# Program to calculate and print the average of three numbers\n",
    "\n",
    "# Prompt the user to enter three numbers\n",
    "num1 = float(input(\"Enter the first number: \"))\n",
    "num2 = float(input(\"Enter the second number: \"))\n",
    "num3 = float(input(\"Enter the third number: \"))\n",
    "\n",
    "# Calculate the average of the three numbers\n",
    "average = (num1 + num2 + num3) / 3\n",
    "\n",
    "# Display the result using % formatting\n",
    "print(\"The average of the three numbers is: %.2f\" % average)\n"
   ]
  },
  {
   "cell_type": "markdown",
   "id": "ffb62fba-9e3f-4f03-b9b3-05ac1a0d4ec9",
   "metadata": {},
   "source": [
    "## Language Components\n",
    "### Control Flow (if statements and loops)\n",
    "#### Question8 : Write a python program that asks the user for a number and determines whether it is positive, negative, or zero."
   ]
  },
  {
   "cell_type": "code",
   "execution_count": 3,
   "id": "d07a7c74-fb2e-41ab-84ef-e16661418ef7",
   "metadata": {},
   "outputs": [
    {
     "name": "stdin",
     "output_type": "stream",
     "text": [
      "Enter a number (or type 'exit' to quit):  6\n"
     ]
    },
    {
     "name": "stdout",
     "output_type": "stream",
     "text": [
      "The number is positive.\n"
     ]
    },
    {
     "name": "stdin",
     "output_type": "stream",
     "text": [
      "Enter a number (or type 'exit' to quit):  -0\n"
     ]
    },
    {
     "name": "stdout",
     "output_type": "stream",
     "text": [
      "The number is zero.\n"
     ]
    },
    {
     "name": "stdin",
     "output_type": "stream",
     "text": [
      "Enter a number (or type 'exit' to quit):  -01\n"
     ]
    },
    {
     "name": "stdout",
     "output_type": "stream",
     "text": [
      "The number is negative.\n"
     ]
    },
    {
     "name": "stdin",
     "output_type": "stream",
     "text": [
      "Enter a number (or type 'exit' to quit):  exit\n"
     ]
    },
    {
     "name": "stdout",
     "output_type": "stream",
     "text": [
      "Exiting the program.\n"
     ]
    }
   ],
   "source": [
    "# Program to determine if a number is positive, negative, or zero\n",
    "# and to continue prompting until \"exit\" is entered\n",
    "\n",
    "def main():\n",
    "    while True:\n",
    "        # Prompt the user for input\n",
    "        user_input = input(\"Enter a number (or type 'exit' to quit): \")\n",
    "        \n",
    "        # Check if the user wants to exit\n",
    "        if user_input.lower() == 'exit':\n",
    "            print(\"Exiting the program.\")\n",
    "            break\n",
    "        \n",
    "        # Attempt to convert the input to a number\n",
    "        try:\n",
    "            number = float(user_input)\n",
    "        except ValueError:\n",
    "            print(\"Invalid input. Please enter a valid number or type 'exit' to quit.\")\n",
    "            continue\n",
    "        \n",
    "        # Determine if the number is positive, negative, or zero\n",
    "        if number > 0:\n",
    "            print(\"The number is positive.\")\n",
    "        elif number < 0:\n",
    "            print(\"The number is negative.\")\n",
    "        else:\n",
    "            print(\"The number is zero.\")\n",
    "\n",
    "if __name__ == \"__main__\":\n",
    "    main()\n"
   ]
  },
  {
   "cell_type": "markdown",
   "id": "79e02328-9844-4bac-bb1a-cddd51e965fc",
   "metadata": {},
   "source": [
    "### Relational and Logical Operators\n",
    "#### Question9 : Create a Python script that takes two numbers as input and prints whether both numbers are even, odd, or one of each using relational and logical operators."
   ]
  },
  {
   "cell_type": "code",
   "execution_count": 15,
   "id": "3ef5dc9c-de3a-42f0-ab9d-ed62ed544548",
   "metadata": {},
   "outputs": [
    {
     "name": "stdin",
     "output_type": "stream",
     "text": [
      "Enter the first number:  8\n",
      "Enter the second number:  9\n"
     ]
    },
    {
     "name": "stdout",
     "output_type": "stream",
     "text": [
      "One number is even and the other is odd.\n"
     ]
    }
   ],
   "source": [
    "# Program to check if two numbers are both even, both odd, or one of each\n",
    "\n",
    "# Function to check if a number is even\n",
    "def is_even(number):\n",
    "    return number % 2 == 0\n",
    "\n",
    "# Function to check if a number is odd\n",
    "def is_odd(number):\n",
    "    return number % 2 != 0\n",
    "\n",
    "# Prompt the user to enter two numbers\n",
    "num1 = float(input(\"Enter the first number: \"))\n",
    "num2 = float(input(\"Enter the second number: \"))\n",
    "\n",
    "# nature of the numbers using logical operators\n",
    "if is_even(num1) and is_even(num2):\n",
    "    print(\"Both numbers are even.\")\n",
    "elif is_odd(num1) and is_odd(num2):\n",
    "    print(\"Both numbers are odd.\")\n",
    "else:\n",
    "    print(\"One number is even and the other is odd.\")\n"
   ]
  },
  {
   "cell_type": "markdown",
   "id": "72185c6f-02c9-4736-a087-ef09826b21f3",
   "metadata": {},
   "source": [
    "### For Loop and Bitwise Operators\n",
    "#### Question10 : Write aPython program that takes an integer input and prints its binary, octal, and hexadecimal equivalents using a lot for loop and bitwise operators."
   ]
  },
  {
   "cell_type": "code",
   "execution_count": 16,
   "id": "04c541f8-b211-4336-841e-1b5111e5b6b0",
   "metadata": {},
   "outputs": [
    {
     "name": "stdin",
     "output_type": "stream",
     "text": [
      "Enter an integer:  20\n"
     ]
    },
    {
     "name": "stdout",
     "output_type": "stream",
     "text": [
      "Binary representation: 10100\n",
      "Octal representation: 24\n",
      "Hexadecimal representation: 14\n"
     ]
    }
   ],
   "source": [
    "# Program to convert an integer to binary, octal, and hexadecimal representations\n",
    "\n",
    "# Function to convert integer to binary representation\n",
    "def int_to_binary(n):\n",
    "    if n == 0:\n",
    "        return \"0\"\n",
    "    binary_rep = \"\"\n",
    "    while n > 0:\n",
    "        binary_rep = str(n & 1) + binary_rep  # Append the least significant bit\n",
    "        n >>= 1  # Right shift by 1 bit\n",
    "    return binary_rep\n",
    "\n",
    "# Function to convert integer to octal representation\n",
    "def int_to_octal(n):\n",
    "    if n == 0:\n",
    "        return \"0\"\n",
    "    octal_rep = \"\"\n",
    "    while n > 0:\n",
    "        octal_rep = str(n & 7) + octal_rep  # Append the last 3 bits\n",
    "        n >>= 3  # Right shift by 3 bits\n",
    "    return octal_rep\n",
    "\n",
    "# Function to convert integer to hexadecimal representation\n",
    "def int_to_hexadecimal(n):\n",
    "    if n == 0:\n",
    "        return \"0\"\n",
    "    hex_rep = \"\"\n",
    "    hex_chars = \"0123456789ABCDEF\"\n",
    "    while n > 0:\n",
    "        hex_rep = hex_chars[n & 15] + hex_rep  # Append the last 4 bits\n",
    "        n >>= 4  # Right shift by 4 bits\n",
    "    return hex_rep\n",
    "\n",
    "# Prompt the user for an integer input\n",
    "number = int(input(\"Enter an integer: \"))\n",
    "\n",
    "# Convert and display the number in different bases\n",
    "binary_representation = int_to_binary(number)\n",
    "octal_representation = int_to_octal(number)\n",
    "hexadecimal_representation = int_to_hexadecimal(number)\n",
    "\n",
    "print(f\"Binary representation: {binary_representation}\")\n",
    "print(f\"Octal representation: {octal_representation}\")\n",
    "print(f\"Hexadecimal representation: {hexadecimal_representation}\")\n"
   ]
  }
 ],
 "metadata": {
  "kernelspec": {
   "display_name": "Python 3 (ipykernel)",
   "language": "python",
   "name": "python3"
  },
  "language_info": {
   "codemirror_mode": {
    "name": "ipython",
    "version": 3
   },
   "file_extension": ".py",
   "mimetype": "text/x-python",
   "name": "python",
   "nbconvert_exporter": "python",
   "pygments_lexer": "ipython3",
   "version": "3.12.4"
  }
 },
 "nbformat": 4,
 "nbformat_minor": 5
}
